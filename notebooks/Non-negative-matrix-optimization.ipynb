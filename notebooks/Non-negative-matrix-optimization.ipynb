{
 "cells": [
  {
   "cell_type": "code",
   "execution_count": 15,
   "metadata": {},
   "outputs": [],
   "source": [
    "import numpy as np\n",
    "from sklearn.decomposition import NMF"
   ]
  },
  {
   "cell_type": "code",
   "execution_count": 16,
   "metadata": {},
   "outputs": [
    {
     "data": {
      "text/plain": [
       "array([[1. , 1. ],\n",
       "       [2. , 1. ],\n",
       "       [3. , 1.2],\n",
       "       [4. , 1. ],\n",
       "       [5. , 0.8],\n",
       "       [6. , 1. ]])"
      ]
     },
     "execution_count": 16,
     "metadata": {},
     "output_type": "execute_result"
    }
   ],
   "source": [
    "X = np.array([[1, 1], [2, 1], [3, 1.2], [4, 1], [5, 0.8], [6, 1]])\n",
    "X"
   ]
  },
  {
   "cell_type": "code",
   "execution_count": 37,
   "metadata": {},
   "outputs": [],
   "source": [
    "model = NMF(n_components=4, init='random', random_state=0)\n",
    "W = model.fit_transform(X)\n",
    "H = model.components_"
   ]
  },
  {
   "cell_type": "code",
   "execution_count": 38,
   "metadata": {},
   "outputs": [
    {
     "data": {
      "text/plain": [
       "array([[0.0073719 , 0.38152276, 0.02119153, 1.00738551],\n",
       "       [0.99257817, 0.35357195, 0.20870409, 0.17641401],\n",
       "       [1.59062378, 0.42310755, 0.11073997, 0.57491023],\n",
       "       [1.61126987, 0.14604   , 0.8368694 , 0.72956764],\n",
       "       [2.76360132, 0.09914683, 0.54926633, 0.55435315],\n",
       "       [3.32507654, 0.1436632 , 0.62063806, 0.7037999 ]])"
      ]
     },
     "execution_count": 38,
     "metadata": {},
     "output_type": "execute_result"
    }
   ],
   "source": [
    "W"
   ]
  },
  {
   "cell_type": "code",
   "execution_count": 39,
   "metadata": {},
   "outputs": [
    {
     "data": {
      "text/plain": [
       "array([[1.35923776, 0.07390778],\n",
       "       [0.64136376, 2.23143958],\n",
       "       [1.43208554, 0.54503149],\n",
       "       [0.70969435, 0.13556452]])"
      ]
     },
     "execution_count": 39,
     "metadata": {},
     "output_type": "execute_result"
    }
   ],
   "source": [
    "H"
   ]
  },
  {
   "cell_type": "code",
   "execution_count": 68,
   "metadata": {},
   "outputs": [],
   "source": [
    "X_reconstructed = W.dot(H)"
   ]
  },
  {
   "cell_type": "code",
   "execution_count": 69,
   "metadata": {},
   "outputs": [
    {
     "data": {
      "text/plain": [
       "True"
      ]
     },
     "execution_count": 69,
     "metadata": {},
     "output_type": "execute_result"
    }
   ],
   "source": [
    "tol1 = 1e-3\n",
    "np.allclose(X,X_reconstructed, rtol=tol1)"
   ]
  },
  {
   "cell_type": "code",
   "execution_count": 70,
   "metadata": {},
   "outputs": [
    {
     "data": {
      "text/plain": [
       "True"
      ]
     },
     "execution_count": 70,
     "metadata": {},
     "output_type": "execute_result"
    }
   ],
   "source": [
    "tol2 = 1e-4\n",
    "np.allclose(X,X_reconstructed, rtol=tol2)"
   ]
  },
  {
   "cell_type": "code",
   "execution_count": 48,
   "metadata": {},
   "outputs": [],
   "source": [
    "from numpy.linalg import norm"
   ]
  },
  {
   "cell_type": "code",
   "execution_count": 88,
   "metadata": {},
   "outputs": [
    {
     "name": "stdout",
     "output_type": "stream",
     "text": [
      "6 2\n"
     ]
    },
    {
     "data": {
      "text/plain": [
       "array([[1.00000594, 0.99999406],\n",
       "       [1.99999866, 1.00000268],\n",
       "       [3.0000004 , 1.19999901],\n",
       "       [3.99999948, 1.00000208],\n",
       "       [5.00000027, 0.79999832],\n",
       "       [5.99999948, 1.0000031 ]])"
      ]
     },
     "execution_count": 88,
     "metadata": {},
     "output_type": "execute_result"
    }
   ],
   "source": [
    "def nmf(X, com=3):\n",
    "    w, h = X.shape\n",
    "    print(w,h)\n",
    "    W = np.random.rand(w,com)\n",
    "    H = np.random.rand(com, h)\n",
    "    cost = norm(X - W.dot(H))\n",
    "    max_step = 1000\n",
    "    step = 0\n",
    "    tol = 1e-5\n",
    "    cost_path = []\n",
    "    while cost > tol and step < max_step:        \n",
    "        step += 1\n",
    "        num1 = W.T.dot(X)\n",
    "        denum1 = W.T.dot(W.dot(H))\n",
    "        H = np.multiply(H, np.divide(num1, denum1))\n",
    "        \n",
    "        num2 = X.dot(H.T)\n",
    "        denum2 = W.dot(H.dot(H.T))\n",
    "        W = np.multiply(W, np.divide(num2, denum2))\n",
    "        cost = norm(X - W.dot(H))\n",
    "        cost_path.append(cost)\n",
    "    return W, H, cost_path\n",
    "\n",
    "res = nmf(X, 5)\n",
    "(W, H, cost_path) = res\n",
    "X_reconstructed = W.dot(H)\n",
    "\n",
    "assert np.allclose(X,X_reconstructed, rtol=tol)\n",
    "X_reconstructed\n"
   ]
  },
  {
   "cell_type": "code",
   "execution_count": 86,
   "metadata": {},
   "outputs": [
    {
     "data": {
      "image/png": "[encoded data removed]",
      "text/plain": [
       "<Figure size 432x288 with 1 Axes>"
      ]
     },
     "metadata": {},
     "output_type": "display_data"
    }
   ],
   "source": [
    "import matplotlib.pyplot as plt\n",
    "\n",
    "plt.plot(cost_path)\n",
    "plt.title(f\"Cost function for Non Matrix Factorization after {len(cost_path)} iterations\")\n",
    "plt.show()"
   ]
  },
  {
   "cell_type": "code",
   "execution_count": null,
   "metadata": {},
   "outputs": [],
   "source": []
  }
 ],
 "metadata": {
  "kernelspec": {
   "display_name": "Python 3",
   "language": "python",
   "name": "python3"
  },
  "language_info": {
   "codemirror_mode": {
    "name": "ipython",
    "version": 3
   },
   "file_extension": ".py",
   "mimetype": "text/x-python",
   "name": "python",
   "nbconvert_exporter": "python",
   "pygments_lexer": "ipython3",
   "version": "3.6.5"
  }
 },
 "nbformat": 4,
 "nbformat_minor": 2
}
