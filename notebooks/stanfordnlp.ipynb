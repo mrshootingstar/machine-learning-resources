{
 "cells": [
  {
   "cell_type": "code",
   "execution_count": 4,
   "metadata": {},
   "outputs": [],
   "source": [
    "#!pip install stanfordnlp"
   ]
  },
  {
   "cell_type": "code",
   "execution_count": 5,
   "metadata": {},
   "outputs": [],
   "source": [
    "#!pip install stanford-corenlp"
   ]
  },
  {
   "cell_type": "code",
   "execution_count": 6,
   "metadata": {},
   "outputs": [
    {
     "ename": "ModuleNotFoundError",
     "evalue": "No module named 'corenlp'",
     "output_type": "error",
     "traceback": [
      "\u001b[1;31m---------------------------------------------------------------------------\u001b[0m",
      "\u001b[1;31mModuleNotFoundError\u001b[0m                       Traceback (most recent call last)",
      "\u001b[1;32m<ipython-input-6-5c0877f05a88>\u001b[0m in \u001b[0;36m<module>\u001b[1;34m()\u001b[0m\n\u001b[1;32m----> 1\u001b[1;33m \u001b[1;32mimport\u001b[0m \u001b[0mcorenlp\u001b[0m\u001b[1;33m\u001b[0m\u001b[0m\n\u001b[0m\u001b[0;32m      2\u001b[0m \u001b[1;33m\u001b[0m\u001b[0m\n\u001b[0;32m      3\u001b[0m \u001b[0mtext\u001b[0m \u001b[1;33m=\u001b[0m \u001b[1;34m\"Chris wrote a simple sentence that he parsed with Stanford CoreNLP.\"\u001b[0m\u001b[1;33m\u001b[0m\u001b[0m\n\u001b[0;32m      4\u001b[0m \u001b[1;33m\u001b[0m\u001b[0m\n\u001b[0;32m      5\u001b[0m \u001b[1;31m# We assume that you've downloaded Stanford CoreNLP and defined an environment\u001b[0m\u001b[1;33m\u001b[0m\u001b[1;33m\u001b[0m\u001b[0m\n",
      "\u001b[1;31mModuleNotFoundError\u001b[0m: No module named 'corenlp'"
     ]
    }
   ],
   "source": [
    "import corenlp\n",
    "\n",
    "text = \"Chris wrote a simple sentence that he parsed with Stanford CoreNLP.\"\n",
    "\n",
    "# We assume that you've downloaded Stanford CoreNLP and defined an environment\n",
    "# variable $CORENLP_HOME that points to the unzipped directory.\n",
    "# The code below will launch StanfordCoreNLPServer in the background\n",
    "# and communicate with the server to annotate the sentence.\n",
    "with corenlp.CoreNLPClient(annotators=\"tokenize ssplit pos lemma ner depparse\".split()) as client:\n",
    "  ann = client.annotate(text)\n",
    "\n",
    "# You can access annotations using ann.\n",
    "sentence = ann.sentence[0]\n",
    "\n",
    "# The corenlp.to_text function is a helper function that\n",
    "# reconstructs a sentence from tokens.\n",
    "assert corenlp.to_text(sentence) == text\n",
    "\n",
    "# You can access any property within a sentence.\n",
    "print(sentence.text)\n",
    "\n",
    "# Likewise for tokens\n",
    "token = sentence.token[0]\n",
    "print(token.lemma)\n",
    "\n",
    "# Use tokensregex patterns to find who wrote a sentence.\n",
    "pattern = '([ner: PERSON]+) /wrote/ /an?/ []{0,3} /sentence|article/'\n",
    "matches = client.tokensregex(text, pattern)\n",
    "# sentences contains a list with matches for each sentence.\n",
    "assert len(matches[\"sentences\"]) == 1\n",
    "# length tells you whether or not there are any matches in this\n",
    "assert matches[\"sentences\"][0][\"length\"] == 1\n",
    "# You can access matches like most regex groups.\n",
    "matches[\"sentences\"][1][\"0\"][\"text\"] == \"Chris wrote a simple sentence\"\n",
    "matches[\"sentences\"][1][\"0\"][\"1\"][\"text\"] == \"Chris\"\n",
    "\n",
    "# Use semgrex patterns to directly find who wrote what.\n",
    "pattern = '{word:wrote} >nsubj {}=subject >dobj {}=object'\n",
    "matches = client.semgrex(text, pattern)\n",
    "# sentences contains a list with matches for each sentence.\n",
    "assert len(matches[\"sentences\"]) == 1\n",
    "# length tells you whether or not there are any matches in this\n",
    "assert matches[\"sentences\"][0][\"length\"] == 1\n",
    "# You can access matches like most regex groups.\n",
    "matches[\"sentences\"][1][\"0\"][\"text\"] == \"wrote\"\n",
    "matches[\"sentences\"][1][\"0\"][\"$subject\"][\"text\"] == \"Chris\"\n",
    "matches[\"sentences\"][1][\"0\"][\"$object\"][\"text\"] == \"sentence\""
   ]
  },
  {
   "cell_type": "code",
   "execution_count": null,
   "metadata": {},
   "outputs": [],
   "source": []
  }
 ],
 "metadata": {
  "kernelspec": {
   "display_name": "Python 3",
   "language": "python",
   "name": "python3"
  },
  "language_info": {
   "codemirror_mode": {
    "name": "ipython",
    "version": 3
   },
   "file_extension": ".py",
   "mimetype": "text/x-python",
   "name": "python",
   "nbconvert_exporter": "python",
   "pygments_lexer": "ipython3",
   "version": "3.6.5"
  }
 },
 "nbformat": 4,
 "nbformat_minor": 2
}
